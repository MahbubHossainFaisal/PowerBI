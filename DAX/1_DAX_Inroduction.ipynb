{
 "cells": [
  {
   "cell_type": "markdown",
   "id": "b4a798fc",
   "metadata": {},
   "source": [
    "### Introduction"
   ]
  },
  {
   "cell_type": "markdown",
   "id": "307b3a6d",
   "metadata": {},
   "source": [
    "DAX, or Data Analysis Expressions, is a formula language used in Power BI for creating custom calculations and aggregations in data models. It is primarily used for defining calculated columns and measures. DAX functions operate on tables and columns, providing powerful capabilities for data manipulation, filtering, and performing complex calculations. Understanding DAX is crucial for creating dynamic and insightful reports in Power BI."
   ]
  },
  {
   "cell_type": "markdown",
   "id": "51d52a68",
   "metadata": {},
   "source": [
    "1. **Data Analysis Expressions (DAX):**\n",
    "   - DAX is a formula language used in Power BI, Excel, and other Microsoft tools.\n",
    "   - It's designed for creating custom calculations and aggregations in data models.\n",
    "\n",
    "2. **Tables and Columns:**\n",
    "   - DAX operates on tables and columns within Power BI data models.\n",
    "\n",
    "3. **Calculated Columns:**\n",
    "   - Calculated columns are created in tables and compute values based on a DAX formula.\n",
    "   - They persist in the data model and can be used like any other column.\n",
    "\n",
    "4. **Measures:**\n",
    "   - Measures are dynamic calculations used for aggregations, often based on summarized data.\n",
    "   - They are defined in DAX and can be used in visualizations.\n",
    "\n",
    "5. **DAX Functions:**\n",
    "   - DAX provides a rich set of functions for a variety of operations (e.g., mathematical, statistical, text, date).\n",
    "   - Common functions include SUM, AVERAGE, COUNT, RELATED, CALCULATE, and many more.\n",
    "\n",
    "6. **Filter Context and Row Context:**\n",
    "   - DAX calculations are influenced by two contexts: filter context and row context.\n",
    "   - Understanding these contexts is crucial for writing effective DAX formulas.\n",
    "\n",
    "7. **Relationships:**\n",
    "   - DAX relies on relationships between tables to perform calculations across related data.\n",
    "\n",
    "8. **Time Intelligence:**\n",
    "   - DAX includes functions for handling time-based calculations, such as year-to-date, quarter-to-date, etc.\n",
    "\n",
    "9. **Aggregation and Iteration:**\n",
    "   - DAX supports both aggregation functions for summarizing data and iteration functions for row-by-row calculations.\n",
    "\n",
    "10. **Variables:**\n",
    "    - DAX allows the use of variables to store intermediate results and enhance formula readability.\n",
    "\n",
    "11. **Context Transition:**\n",
    "    - DAX handles context transitions between row and filter contexts when evaluating formulas.\n",
    "\n",
    "Mastering these concepts empowers users to create sophisticated and dynamic reports in Power BI. For interviews, it's essential to showcase practical applications of DAX, understand how it influences data analysis, and demonstrate proficiency in writing effective DAX formulas."
   ]
  },
  {
   "cell_type": "markdown",
   "id": "6a4d8aff",
   "metadata": {},
   "source": [
    "### Data Types"
   ]
  },
  {
   "cell_type": "markdown",
   "id": "b61a9dea",
   "metadata": {},
   "source": [
    "1. **Numeric Types:**\n",
    "   - **Integer (`INT`):** Whole numbers without decimals.\n",
    "   - **Decimal (`DECIMAL`):** Numbers with decimals.\n",
    "   - **Currency (`CURRENCY`):** Numbers representing currency values.\n",
    "\n",
    "2. **Text Types:**\n",
    "   - **String (`STRING`):** Text values.\n",
    "   - **Fixed String (`FIXEDSTRING`):** Fixed-length text.\n",
    "\n",
    "3. **DateTime Types:**\n",
    "   - **Date (`DATE`):** Represents a date without a time component.\n",
    "   - **DateTime (`DATETIME`):** Represents both date and time.\n",
    "   - **Time (`TIME`):** Represents a time without a date component.\n",
    "\n",
    "4. **Boolean Type:**\n",
    "   - **Boolean (`BOOLEAN`):** Represents true or false values.\n",
    "\n",
    "5. **Other Types:**\n",
    "   - **Currency (`CURRENCY`):** Specialized for currency-related calculations.\n",
    "   - **Percentage (`PERCENTAGE`):** Represents percentages.\n",
    "\n",
    "6. **Special Types:**\n",
    "   - **Table (`TABLE`):** Represents a table of values.\n",
    "   - **Row (`ROW`):** Represents a single row of values.\n",
    "   - **Variant (`VARIANT`):** Generic type that can hold different data types.\n"
   ]
  },
  {
   "cell_type": "markdown",
   "id": "c8a14952",
   "metadata": {},
   "source": [
    "### Operators and Syntax"
   ]
  },
  {
   "cell_type": "markdown",
   "id": "9c406f28",
   "metadata": {},
   "source": [
    "Certainly! When it comes to DAX operators and syntax, having a solid understanding is crucial for creating effective formulas in Power BI. Here's a brief introduction tailored for interview context:\n",
    "\n",
    "### **DAX Operators:**\n",
    "\n",
    "1. **Arithmetic Operators:**\n",
    "   - `+` (Addition)\n",
    "   - `-` (Subtraction)\n",
    "   - `*` (Multiplication)\n",
    "   - `/` (Division)\n",
    "   - `%` (Modulus)\n",
    "\n",
    "2. **Comparison Operators:**\n",
    "   - `=` (Equal to)\n",
    "   - `<>` or `!=` (Not equal to)\n",
    "   - `<` (Less than)\n",
    "   - `>` (Greater than)\n",
    "   - `<=` (Less than or equal to)\n",
    "   - `>=` (Greater than or equal to)\n",
    "\n",
    "3. **Logical Operators:**\n",
    "   - `&&` or `AND` (Logical AND)\n",
    "   - `||` or `OR` (Logical OR)\n",
    "   - `NOT` (Logical NOT)\n",
    "\n",
    "4. **Text Concatenation:**\n",
    "   - `&` (Concatenation operator)\n",
    "\n",
    "5. **Membership Operators:**\n",
    "   - `IN` (Tests whether a value is found in a list of values)\n",
    "   - `NOT IN` (Tests whether a value is not found in a list of values)\n",
    "\n",
    "### **DAX Syntax:**\n",
    "\n",
    "1. **Formulas and Expressions:**\n",
    "   - DAX formulas are written in the form of expressions.\n",
    "   - Example: `Total Sales = SUM('Sales'[SalesAmount])`\n",
    "\n",
    "2. **Functions:**\n",
    "   - Functions perform specific operations and are a key part of DAX.\n",
    "   - Example: `SUM`, `AVERAGE`, `COUNT`, `IF`, etc.\n",
    "\n",
    "3. **Context Transition:**\n",
    "   - Understanding how DAX transitions between row context and filter context is crucial.\n",
    "   - Example: Using `CALCULATE` to modify filter context within a formula.\n",
    "\n",
    "4. **Variables:**\n",
    "   - `VAR` keyword is used to declare variables for storing intermediate results.\n",
    "   - Example: \n",
    "     ```DAX\n",
    "     TotalRevenue = \n",
    "        VAR TotalSales = SUM('Sales'[SalesAmount])\n",
    "        RETURN TotalSales * 1.1\n",
    "     ```\n",
    "\n",
    "5. **Table and Column References:**\n",
    "   - Referencing tables and columns is fundamental in DAX.\n",
    "   - Example: `Sales[Quantity]` references the 'Quantity' column in the 'Sales' table.\n"
   ]
  },
  {
   "cell_type": "markdown",
   "id": "0713d7b5",
   "metadata": {},
   "source": [
    "### M VS DAX"
   ]
  },
  {
   "cell_type": "markdown",
   "id": "e1a0a2a6",
   "metadata": {},
   "source": [
    "| Aspect                  | M Language                               | DAX Language                             |\n",
    "|-------------------------|------------------------------------------|------------------------------------------|\n",
    "| **Purpose**             | Data Transformation                      | Data Analysis Expressions (Analysis)    |\n",
    "| **Usage**               | Power Query Editor                        | Power BI Desktop (Data Model)           |\n",
    "| **Characteristics**     | Step-by-Step Process                      | Formula Language                         |\n",
    "| **Syntax**              | Case-sensitive                            | Case-insensitive                        |\n",
    "| **Location**            | Used in Power Query before data loading  | Used in Power BI Desktop (Data Model)   |\n",
    "| **Components**          | Source Steps, Transformations             | Calculated Columns, Measures, Time Intelligence |\n",
    "| **Scenario**            | Data cleaning, shaping, ETL operations   | Calculations, Aggregations, Analysis     |\n",
    "\n",
    "This table summarizes the main differences between M and DAX languages, highlighting their distinct roles in the Power BI workflow."
   ]
  },
  {
   "cell_type": "code",
   "execution_count": null,
   "id": "385b3b03",
   "metadata": {},
   "outputs": [],
   "source": []
  }
 ],
 "metadata": {
  "kernelspec": {
   "display_name": "Python 3 (ipykernel)",
   "language": "python",
   "name": "python3"
  },
  "language_info": {
   "codemirror_mode": {
    "name": "ipython",
    "version": 3
   },
   "file_extension": ".py",
   "mimetype": "text/x-python",
   "name": "python",
   "nbconvert_exporter": "python",
   "pygments_lexer": "ipython3",
   "version": "3.9.13"
  }
 },
 "nbformat": 4,
 "nbformat_minor": 5
}
